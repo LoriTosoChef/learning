{
 "cells": [
  {
   "cell_type": "code",
   "execution_count": 3,
   "id": "cadb8fde",
   "metadata": {},
   "outputs": [
    {
     "data": {
      "text/plain": [
       "'1.13.1'"
      ]
     },
     "execution_count": 3,
     "metadata": {},
     "output_type": "execute_result"
    }
   ],
   "source": [
    "import torch\n",
    "torch.__version__"
   ]
  },
  {
   "cell_type": "markdown",
   "id": "db6a8cfd",
   "metadata": {},
   "source": [
    "### Tensors"
   ]
  },
  {
   "cell_type": "code",
   "execution_count": 18,
   "id": "b7910020",
   "metadata": {},
   "outputs": [
    {
     "name": "stdout",
     "output_type": "stream",
     "text": [
      "tensor([[0.2153, 0.1042, 0.7301, 0.1600],\n",
      "        [0.3948, 0.6089, 0.8017, 0.8257],\n",
      "        [0.1762, 0.6580, 0.7371, 0.8158]])\n",
      "\n",
      "Datatype: torch.float32\n",
      "Size: torch.Size([3, 4])\n",
      "Device: cpu\n"
     ]
    }
   ],
   "source": [
    "# random tensor\n",
    "random_tensor = torch.rand(size=(3, 4))\n",
    "print(random_tensor)\n",
    "print(f\"\\nDatatype: {random_tensor.dtype}\")\n",
    "print(f\"Size: {random_tensor.shape}\")\n",
    "print(f\"Device: {random_tensor.device}\")"
   ]
  },
  {
   "cell_type": "code",
   "execution_count": 24,
   "id": "7e9e98c4",
   "metadata": {},
   "outputs": [
    {
     "name": "stdout",
     "output_type": "stream",
     "text": [
      "Add: tensor([11, 12, 13])\n",
      "Element wise mul: tensor([10, 20, 30])\n",
      "Sub: tensor([-9, -8, -7])\n",
      "Division: tensor([0.1000, 0.2000, 0.3000])\n"
     ]
    }
   ],
   "source": [
    "# operations\n",
    "tensor = torch.tensor([1, 2, 3])\n",
    "print(f\"Add: {tensor + 10}\")\n",
    "print(f\"Element wise mul: {tensor * 10}\")\n",
    "print(f\"Sub: {tensor - 10}\")\n",
    "print(f\"Division: {tensor / 10}\")"
   ]
  },
  {
   "cell_type": "markdown",
   "id": "3f7fe469",
   "metadata": {},
   "source": [
    "#### Reminder Notes on Matrices\n",
    "* **Inner** dimensions must match\n",
    "* Matrix will have the shape of **outer** dimensions\n",
    "* Use transpose to make shapes match"
   ]
  },
  {
   "cell_type": "code",
   "execution_count": 32,
   "id": "8944c17a",
   "metadata": {},
   "outputs": [
    {
     "name": "stdout",
     "output_type": "stream",
     "text": [
      "Element wise mul: tensor([1, 4, 9])\n",
      "Matrix mul: 14\n",
      "Matrix mul using '@': 14\n"
     ]
    }
   ],
   "source": [
    "# matrix mul\n",
    "print(f\"Element wise mul: {tensor * tensor}\")\n",
    "print(f\"Matrix mul: {torch.matmul(tensor, tensor)}\")\n",
    "print(f\"Matrix mul using '@': {tensor @ tensor}\")"
   ]
  },
  {
   "cell_type": "code",
   "execution_count": 41,
   "id": "68ce103b",
   "metadata": {},
   "outputs": [
    {
     "data": {
      "text/plain": [
       "(tensor(90), tensor(0), tensor(450))"
      ]
     },
     "execution_count": 41,
     "metadata": {},
     "output_type": "execute_result"
    }
   ],
   "source": [
    "# useful aggregation\n",
    "a = torch.arange(0, 100, 10)\n",
    "a.max(), a.min(), a.sum()"
   ]
  },
  {
   "cell_type": "code",
   "execution_count": 40,
   "id": "de202feb",
   "metadata": {},
   "outputs": [
    {
     "data": {
      "text/plain": [
       "tensor(45.)"
      ]
     },
     "execution_count": 40,
     "metadata": {},
     "output_type": "execute_result"
    }
   ],
   "source": [
    "# mean (first changing Long type of tensor)\n",
    "a.type(torch.float32).mean()"
   ]
  },
  {
   "cell_type": "code",
   "execution_count": 44,
   "id": "744fefc6",
   "metadata": {},
   "outputs": [
    {
     "data": {
      "text/plain": [
       "(tensor(9), tensor(0))"
      ]
     },
     "execution_count": 44,
     "metadata": {},
     "output_type": "execute_result"
    }
   ],
   "source": [
    "# positional max and min\n",
    "a.argmax(), a.argmin()"
   ]
  },
  {
   "cell_type": "markdown",
   "id": "4a231570",
   "metadata": {},
   "source": [
    "#### Reshapng, stacking, squeezing and unsqueezing\n",
    "* **reshaping**: reshapes and input tensor to a defined shape\n",
    "* **view**: return a view of an input tensor of a certain shape but keep the same memory as the original tensor\n",
    "* **stacking**: combine multiple tensors on top of each other (vstack) or side by side (hstack)\n",
    "* **squeeze**: removes all 1 dimensions from a tensor\n",
    "* **unsqueeze**: add a 1 dimensions to a tensor\n",
    "* **permute**: return a view of  the input with dimensions permuted (swapped) in a certain way"
   ]
  },
  {
   "cell_type": "code",
   "execution_count": 49,
   "id": "6cb18b38",
   "metadata": {},
   "outputs": [
    {
     "data": {
      "text/plain": [
       "(tensor([1., 2., 3., 4., 5., 6., 7., 8., 9.]), torch.Size([9]))"
      ]
     },
     "execution_count": 49,
     "metadata": {},
     "output_type": "execute_result"
    }
   ],
   "source": [
    "x = torch.arange(1., 10)\n",
    "x, x.shape"
   ]
  },
  {
   "cell_type": "code",
   "execution_count": 54,
   "id": "56d925ce",
   "metadata": {},
   "outputs": [
    {
     "data": {
      "text/plain": [
       "(tensor([[1.],\n",
       "         [2.],\n",
       "         [3.],\n",
       "         [4.],\n",
       "         [5.],\n",
       "         [6.],\n",
       "         [7.],\n",
       "         [8.],\n",
       "         [9.]]),\n",
       " torch.Size([9]))"
      ]
     },
     "execution_count": 54,
     "metadata": {},
     "output_type": "execute_result"
    }
   ],
   "source": [
    "x.reshape(9, 1), x.shape"
   ]
  },
  {
   "cell_type": "code",
   "execution_count": 58,
   "id": "d0abefb9",
   "metadata": {},
   "outputs": [
    {
     "data": {
      "text/plain": [
       "tensor([[1.],\n",
       "        [2.],\n",
       "        [3.],\n",
       "        [4.],\n",
       "        [5.],\n",
       "        [6.],\n",
       "        [7.],\n",
       "        [8.],\n",
       "        [9.]])"
      ]
     },
     "execution_count": 58,
     "metadata": {},
     "output_type": "execute_result"
    }
   ],
   "source": [
    "# same memory as x, changing z changes x too\n",
    "z = x.view(9, 1)\n",
    "z"
   ]
  },
  {
   "cell_type": "code",
   "execution_count": 61,
   "id": "9d727f1c",
   "metadata": {},
   "outputs": [
    {
     "data": {
      "text/plain": [
       "tensor([[1., 1.],\n",
       "        [2., 2.],\n",
       "        [3., 3.],\n",
       "        [4., 4.],\n",
       "        [5., 5.],\n",
       "        [6., 6.],\n",
       "        [7., 7.],\n",
       "        [8., 8.],\n",
       "        [9., 9.]])"
      ]
     },
     "execution_count": 61,
     "metadata": {},
     "output_type": "execute_result"
    }
   ],
   "source": [
    "# kind of concat in pandas\n",
    "torch.stack([x, x], dim=1)"
   ]
  },
  {
   "cell_type": "code",
   "execution_count": 64,
   "id": "80ecfb0e",
   "metadata": {},
   "outputs": [
    {
     "data": {
      "text/plain": [
       "tensor([1., 2., 3., 4., 5., 6., 7., 8., 9.])"
      ]
     },
     "execution_count": 64,
     "metadata": {},
     "output_type": "execute_result"
    }
   ],
   "source": [
    "x_squeeze = torch.squeeze(x.reshape(9, 1))\n",
    "x_squeeze"
   ]
  },
  {
   "cell_type": "code",
   "execution_count": 69,
   "id": "4325afd1",
   "metadata": {},
   "outputs": [
    {
     "data": {
      "text/plain": [
       "tensor([[1., 2., 3., 4., 5., 6., 7., 8., 9.]])"
      ]
     },
     "execution_count": 69,
     "metadata": {},
     "output_type": "execute_result"
    }
   ],
   "source": [
    "x_squeeze.unsqueeze(dim=0)"
   ]
  },
  {
   "cell_type": "code",
   "execution_count": 73,
   "id": "1235d35d",
   "metadata": {},
   "outputs": [
    {
     "data": {
      "text/plain": [
       "tensor([[1., 2., 3., 4., 5., 6., 7., 8., 9.]])"
      ]
     },
     "execution_count": 73,
     "metadata": {},
     "output_type": "execute_result"
    }
   ],
   "source": [
    "# permute, swap dims\n",
    "x_reshape = x.reshape(9, 1)\n",
    "x_reshape.permute(1, 0)"
   ]
  }
 ],
 "metadata": {
  "kernelspec": {
   "display_name": "Python 3 (ipykernel)",
   "language": "python",
   "name": "python3"
  },
  "language_info": {
   "codemirror_mode": {
    "name": "ipython",
    "version": 3
   },
   "file_extension": ".py",
   "mimetype": "text/x-python",
   "name": "python",
   "nbconvert_exporter": "python",
   "pygments_lexer": "ipython3",
   "version": "3.8.10"
  }
 },
 "nbformat": 4,
 "nbformat_minor": 5
}
